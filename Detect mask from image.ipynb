{
 "cells": [
  {
   "cell_type": "code",
   "execution_count": 1,
   "metadata": {},
   "outputs": [],
   "source": [
    "# Import the necessary packages\n",
    "from tensorflow.keras.models import load_model\n",
    "import cv2\n",
    "import numpy as np"
   ]
  },
  {
   "cell_type": "code",
   "execution_count": 2,
   "metadata": {},
   "outputs": [],
   "source": [
    "# create label dict\n",
    "labels_dict={1:'MASK',0:'NO MASK'}\n",
    "color_dict={1:(0,255,0),0:(0,0,255)}"
   ]
  },
  {
   "cell_type": "code",
   "execution_count": 5,
   "metadata": {},
   "outputs": [],
   "source": [
    "# reading the image as it is\n",
    "img = cv2.imread(\"image2.jpg\")\n",
    "\n",
    "#convert the image as a gray scale image\n",
    "gray_image = cv2.cvtColor(img, cv2.COLOR_BGR2GRAY)\n",
    "\n",
    "# Load the cascade cascadeClassifier\n",
    "face_clsfr = cv2.CascadeClassifier('haarcascade_frontalface_default.xml')\n",
    "# load cnn face detector model\n",
    "model = load_model('model.h5')\n",
    "\n",
    "# search the co-ordintes of the image(this is help to figure out where is the image)\n",
    "faces = face_clsfr.detectMultiScale(gray_image, scaleFactor=1.05, minNeighbors=5)\n",
    "\n",
    "for x,y,w,h in faces:\n",
    "    img = cv2.rectangle(img, (x,y), (x+w, y+h), (0,255,0),1)\n",
    "    resized=cv2.resize(img,(100,100))\n",
    "    normalized=resized/255.0\n",
    "    reshaped=np.reshape(normalized,(1,100,100,3))\n",
    "    reshaped = np.vstack([reshaped])\n",
    "    result=model.predict(reshaped)\n",
    "    label=np.argmax(result,axis=1)[0]\n",
    "    \n",
    "    # method to create face rectangle into the image\n",
    "    cv2.rectangle(img,(x,y),(x+w,y+h),color_dict[label],2)\n",
    "    cv2.rectangle(img,(x,y-40),(x+w,y),color_dict[label],-1)\n",
    "    cv2.putText(img, labels_dict[label], (x, y-10),cv2.FONT_HERSHEY_SIMPLEX,0.8,(255,255,255),2)    \n",
    "    \n",
    "\n",
    "#resize image to show image in proper shape\n",
    "resized = cv2.resize(img, (350,300))\n",
    "cv2.imshow(\"human\", resized)\n",
    "\n",
    "\n",
    "cv2.waitKey(0)\n",
    "cv2.destroyAllWindows()"
   ]
  }
 ],
 "metadata": {
  "kernelspec": {
   "display_name": "Python 3",
   "language": "python",
   "name": "python3"
  },
  "language_info": {
   "codemirror_mode": {
    "name": "ipython",
    "version": 3
   },
   "file_extension": ".py",
   "mimetype": "text/x-python",
   "name": "python",
   "nbconvert_exporter": "python",
   "pygments_lexer": "ipython3",
   "version": "3.8.5"
  }
 },
 "nbformat": 4,
 "nbformat_minor": 4
}
