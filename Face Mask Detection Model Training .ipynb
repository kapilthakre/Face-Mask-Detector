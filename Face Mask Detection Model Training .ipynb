{
 "cells": [
  {
   "cell_type": "markdown",
   "metadata": {},
   "source": [
    "# Importing libraries"
   ]
  },
  {
   "cell_type": "code",
   "execution_count": 1,
   "metadata": {},
   "outputs": [],
   "source": [
    "# Import the necessary packages\n",
    "from tensorflow.keras.models import Sequential\n",
    "from tensorflow.keras.layers import Dense, Activation, Flatten, Dropout\n",
    "from tensorflow.keras.layers import Conv2D, MaxPooling2D\n",
    "from tensorflow.keras.preprocessing.image import ImageDataGenerator\n",
    "from tensorflow.keras.utils import to_categorical\n",
    "from sklearn.preprocessing import LabelBinarizer\n",
    "from sklearn.model_selection import train_test_split\n",
    "from sklearn.metrics import classification_report\n",
    "import matplotlib.pyplot as plt\n",
    "import numpy as np\n",
    "import cv2\n",
    "import os"
   ]
  },
  {
   "cell_type": "markdown",
   "metadata": {},
   "source": [
    "# Data Preprocessing"
   ]
  },
  {
   "cell_type": "code",
   "execution_count": 2,
   "metadata": {},
   "outputs": [
    {
     "data": {
      "text/plain": [
       "{'without_mask': 0, 'with_mask': 1}"
      ]
     },
     "execution_count": 2,
     "metadata": {},
     "output_type": "execute_result"
    }
   ],
   "source": [
    "# Dataset Path\n",
    "data_path = \"dataset\"\n",
    "# Extract the class label\n",
    "categories = os.listdir(data_path)\n",
    "label = [i for i in range(len(categories))]\n",
    "label_dict = dict(zip(categories,label))\n",
    "label_dict"
   ]
  },
  {
   "cell_type": "code",
   "execution_count": 3,
   "metadata": {},
   "outputs": [],
   "source": [
    "img_size = 100\n",
    "data = []\n",
    "target = []\n",
    "\n",
    "for category in categories:\n",
    "    # Join folder path with category\n",
    "    folder_path = os.path.join(data_path, category)\n",
    "    # Storing all image name into list\n",
    "    img_names = os.listdir(folder_path)\n",
    "    \n",
    "    # loop over the image paths\n",
    "    for img_name in img_names:\n",
    "        img_path = os.path.join(folder_path,img_name)\n",
    "        # convert image into array\n",
    "        img = cv2.imread(img_path)\n",
    "        # resizing the image\n",
    "        resized = cv2.resize(img, (img_size,img_size))\n",
    "        \n",
    "        # update the data and target lists, respectively\n",
    "        data.append(resized)\n",
    "        target.append(label_dict[category])"
   ]
  },
  {
   "cell_type": "code",
   "execution_count": 4,
   "metadata": {},
   "outputs": [],
   "source": [
    "# convert the data to numpy array and normalized them\n",
    "data = np.array(data)/255.0\n",
    "\n",
    "# converting the target to numpy array\n",
    "target = np.array(target)\n",
    "\n",
    "# perform one-hot encoding on the labels\n",
    "from tensorflow.keras import utils\n",
    "target = utils.to_categorical(target)"
   ]
  },
  {
   "cell_type": "code",
   "execution_count": 5,
   "metadata": {},
   "outputs": [
    {
     "name": "stdout",
     "output_type": "stream",
     "text": [
      "Total No of class : ['without_mask', 'with_mask']\n",
      "Total number of images : 1384\n",
      "Image size and no of channel: (100, 100, 3)\n"
     ]
    }
   ],
   "source": [
    "print(\"Total No of class : {}\".format(categories))\n",
    "print(\"Total number of images : {}\".format(data.shape[0]))\n",
    "print(\"Image size and no of channel: {}\".format(data.shape[1:]))\n",
    "# 3 means rgb, 1 means gray image"
   ]
  },
  {
   "cell_type": "markdown",
   "metadata": {},
   "source": [
    "### *Image Generator*"
   ]
  },
  {
   "cell_type": "code",
   "execution_count": 6,
   "metadata": {},
   "outputs": [],
   "source": [
    "# this is the augmentation configuration we will use for training\n",
    "augmentation = ImageDataGenerator(rotation_range=20,\n",
    "                         zoom_range=0.15,\n",
    "                         width_shift_range=0.2,\n",
    "                         height_shift_range=0.2,\n",
    "                         shear_range=0.15,\n",
    "                         horizontal_flip=True,\n",
    "                         fill_mode=\"nearest\")"
   ]
  },
  {
   "cell_type": "code",
   "execution_count": 7,
   "metadata": {},
   "outputs": [],
   "source": [
    "# split the data into train test 70% of the data for training and the remaining 20% for testing.\n",
    "x_train, x_test, y_train, y_test = train_test_split(data, target,\n",
    "                                                    test_size = 0.20,\n",
    "                                                    random_state=42)"
   ]
  },
  {
   "cell_type": "markdown",
   "metadata": {},
   "source": [
    "## Building CNN Model"
   ]
  },
  {
   "cell_type": "code",
   "execution_count": 8,
   "metadata": {},
   "outputs": [
    {
     "name": "stdout",
     "output_type": "stream",
     "text": [
      "Model: \"sequential\"\n",
      "_________________________________________________________________\n",
      "Layer (type)                 Output Shape              Param #   \n",
      "=================================================================\n",
      "conv2d (Conv2D)              (None, 98, 98, 200)       5600      \n",
      "_________________________________________________________________\n",
      "activation (Activation)      (None, 98, 98, 200)       0         \n",
      "_________________________________________________________________\n",
      "max_pooling2d (MaxPooling2D) (None, 49, 49, 200)       0         \n",
      "_________________________________________________________________\n",
      "conv2d_1 (Conv2D)            (None, 47, 47, 100)       180100    \n",
      "_________________________________________________________________\n",
      "activation_1 (Activation)    (None, 47, 47, 100)       0         \n",
      "_________________________________________________________________\n",
      "max_pooling2d_1 (MaxPooling2 (None, 23, 23, 100)       0         \n",
      "_________________________________________________________________\n",
      "flatten (Flatten)            (None, 52900)             0         \n",
      "_________________________________________________________________\n",
      "dropout (Dropout)            (None, 52900)             0         \n",
      "_________________________________________________________________\n",
      "dense (Dense)                (None, 50)                2645050   \n",
      "_________________________________________________________________\n",
      "dense_1 (Dense)              (None, 2)                 102       \n",
      "=================================================================\n",
      "Total params: 2,830,852\n",
      "Trainable params: 2,830,852\n",
      "Non-trainable params: 0\n",
      "_________________________________________________________________\n"
     ]
    }
   ],
   "source": [
    "# Start building model\n",
    "model=Sequential()\n",
    "\n",
    "# The first CNN layer followed by Relu and MaxPooling layers\n",
    "model.add(Conv2D(200,(3,3), input_shape=data.shape[1:]))\n",
    "model.add(Activation('relu'))\n",
    "model.add(MaxPooling2D(pool_size=(2,2)))\n",
    "\n",
    "# The second convolution layer followed by Relu and MaxPooling layers\n",
    "model.add(Conv2D(100,(3,3)))\n",
    "model.add(Activation('relu'))\n",
    "model.add(MaxPooling2D(pool_size=(2,2)))\n",
    "\n",
    "# Flatten layer to stack the output convolutions from second convolution layer\n",
    "model.add(Flatten())\n",
    "model.add(Dropout(0.5))\n",
    "model.add(Dense(50,activation='relu'))\n",
    "# The Final layer with two outputs for two categories\n",
    "model.add(Dense(2,activation='softmax'))\n",
    "\n",
    "# Compile the model\n",
    "model.compile(loss='categorical_crossentropy',\n",
    "              optimizer='adam',\n",
    "              metrics=['accuracy'])\n",
    "\n",
    "# model summary\n",
    "model.summary()"
   ]
  },
  {
   "cell_type": "code",
   "execution_count": 9,
   "metadata": {},
   "outputs": [],
   "source": [
    "# some model parameters\n",
    "EPOCHS = 20\n",
    "BS = 32"
   ]
  },
  {
   "cell_type": "code",
   "execution_count": 10,
   "metadata": {},
   "outputs": [
    {
     "name": "stdout",
     "output_type": "stream",
     "text": [
      "Epoch 1/20\n",
      "34/34 [==============================] - 32s 946ms/step - loss: 0.6425 - accuracy: 0.6214 - val_loss: 0.2984 - val_accuracy: 0.9170\n",
      "Epoch 2/20\n",
      "34/34 [==============================] - 31s 900ms/step - loss: 0.3812 - accuracy: 0.8484 - val_loss: 0.1667 - val_accuracy: 0.9531\n",
      "Epoch 3/20\n",
      "34/34 [==============================] - 31s 907ms/step - loss: 0.3040 - accuracy: 0.8805 - val_loss: 0.1462 - val_accuracy: 0.9422\n",
      "Epoch 4/20\n",
      "34/34 [==============================] - 34s 991ms/step - loss: 0.2885 - accuracy: 0.9023 - val_loss: 0.1241 - val_accuracy: 0.9675\n",
      "Epoch 5/20\n",
      "34/34 [==============================] - 34s 999ms/step - loss: 0.2259 - accuracy: 0.9191 - val_loss: 0.1357 - val_accuracy: 0.9639\n",
      "Epoch 6/20\n",
      "34/34 [==============================] - 33s 972ms/step - loss: 0.2335 - accuracy: 0.9237 - val_loss: 0.1200 - val_accuracy: 0.9675\n",
      "Epoch 7/20\n",
      "34/34 [==============================] - 31s 903ms/step - loss: 0.2315 - accuracy: 0.9219 - val_loss: 0.1006 - val_accuracy: 0.9675\n",
      "Epoch 8/20\n",
      "34/34 [==============================] - 30s 873ms/step - loss: 0.2271 - accuracy: 0.9172 - val_loss: 0.0960 - val_accuracy: 0.9639\n",
      "Epoch 9/20\n",
      "34/34 [==============================] - 35s 1s/step - loss: 0.1897 - accuracy: 0.9247 - val_loss: 0.1035 - val_accuracy: 0.9675\n",
      "Epoch 10/20\n",
      "34/34 [==============================] - 32s 942ms/step - loss: 0.1832 - accuracy: 0.9330 - val_loss: 0.0798 - val_accuracy: 0.9819\n",
      "Epoch 11/20\n",
      "34/34 [==============================] - 31s 900ms/step - loss: 0.1734 - accuracy: 0.9377 - val_loss: 0.0666 - val_accuracy: 0.9711\n",
      "Epoch 12/20\n",
      "34/34 [==============================] - 32s 946ms/step - loss: 0.1833 - accuracy: 0.9405 - val_loss: 0.0679 - val_accuracy: 0.9675\n",
      "Epoch 13/20\n",
      "34/34 [==============================] - 34s 987ms/step - loss: 0.1652 - accuracy: 0.9377 - val_loss: 0.0691 - val_accuracy: 0.9747\n",
      "Epoch 14/20\n",
      "34/34 [==============================] - 32s 931ms/step - loss: 0.1326 - accuracy: 0.9572 - val_loss: 0.0740 - val_accuracy: 0.9711\n",
      "Epoch 15/20\n",
      "34/34 [==============================] - 30s 877ms/step - loss: 0.1703 - accuracy: 0.9451 - val_loss: 0.0619 - val_accuracy: 0.9711\n",
      "Epoch 16/20\n",
      "34/34 [==============================] - 29s 850ms/step - loss: 0.1399 - accuracy: 0.9516 - val_loss: 0.0535 - val_accuracy: 0.9819\n",
      "Epoch 17/20\n",
      "34/34 [==============================] - 29s 841ms/step - loss: 0.1351 - accuracy: 0.9507 - val_loss: 0.0497 - val_accuracy: 0.9819\n",
      "Epoch 18/20\n",
      "34/34 [==============================] - 29s 841ms/step - loss: 0.1394 - accuracy: 0.9507 - val_loss: 0.3694 - val_accuracy: 0.8087\n",
      "Epoch 19/20\n",
      "34/34 [==============================] - 29s 841ms/step - loss: 0.3019 - accuracy: 0.8986 - val_loss: 0.1568 - val_accuracy: 0.9458\n",
      "Epoch 20/20\n",
      "34/34 [==============================] - 29s 851ms/step - loss: 0.1581 - accuracy: 0.9377 - val_loss: 0.0689 - val_accuracy: 0.9711\n"
     ]
    }
   ],
   "source": [
    "# train the the network\n",
    "history = model.fit(augmentation.flow(x_train, y_train, batch_size=BS),\n",
    "                    steps_per_epoch = len(x_train) // BS,\n",
    "                    validation_data = (x_test, y_test),\n",
    "                    validation_steps = len(x_test) // BS,\n",
    "                    epochs = EPOCHS)"
   ]
  },
  {
   "cell_type": "markdown",
   "metadata": {},
   "source": [
    "# Model Evaluation"
   ]
  },
  {
   "cell_type": "code",
   "execution_count": 14,
   "metadata": {},
   "outputs": [
    {
     "data": {
      "image/png": "[encoded data removed]",
      "text/plain": [
       "<Figure size 432x288 with 1 Axes>"
      ]
     },
     "metadata": {},
     "output_type": "display_data"
    }
   ],
   "source": [
    "# plot the training loss and accuracy\n",
    "N = EPOCHS\n",
    "plt.style.use(\"ggplot\")\n",
    "plt.figure()\n",
    "plt.plot(np.arange(0, N), history.history[\"loss\"], label=\"train_loss\")\n",
    "plt.plot(np.arange(0, N), history.history[\"val_loss\"], label=\"val_loss\")\n",
    "plt.plot(np.arange(0, N), history.history[\"accuracy\"], label=\"train_acc\")\n",
    "plt.plot(np.arange(0, N), history.history[\"val_accuracy\"], label=\"val_acc\")\n",
    "plt.title(\"Training Loss and Accuracy\")\n",
    "plt.xlabel(\"Epoch\")\n",
    "plt.ylabel(\"Loss/Accuracy\")\n",
    "plt.legend(loc=\"lower left\")\n",
    "plt.savefig('evaluation.png')"
   ]
  },
  {
   "cell_type": "code",
   "execution_count": 16,
   "metadata": {},
   "outputs": [
    {
     "name": "stdout",
     "output_type": "stream",
     "text": [
      "              precision    recall  f1-score   support\n",
      "\n",
      "without_mask       0.98      0.95      0.97       129\n",
      "   with_mask       0.96      0.99      0.97       148\n",
      "\n",
      "    accuracy                           0.97       277\n",
      "   macro avg       0.97      0.97      0.97       277\n",
      "weighted avg       0.97      0.97      0.97       277\n",
      "\n"
     ]
    }
   ],
   "source": [
    "# Model Evaluation\n",
    "pred = model.predict(x_test, batch_size=BS)\n",
    "pred = np.argmax(pred, axis=1)\n",
    "# classification report\n",
    "print(classification_report(y_test.argmax(axis=1), pred, target_names=label_dict))"
   ]
  },
  {
   "cell_type": "code",
   "execution_count": 17,
   "metadata": {},
   "outputs": [
    {
     "name": "stdout",
     "output_type": "stream",
     "text": [
      "9/9 [==============================] - 2s 175ms/step - loss: 0.0689 - accuracy: 0.9711\n",
      "35/35 [==============================] - 6s 183ms/step - loss: 0.0576 - accuracy: 0.9801\n",
      "Loss on Test Data : 0.06889042258262634\n",
      "Accuracy on Test Data : 0.9711191058158875\n",
      "==================\n",
      "Loss on Train Data : 0.05761564522981644\n",
      "Accuracy on Train Data : 0.9801264405250549\n"
     ]
    }
   ],
   "source": [
    "# evaluation on test and train data\n",
    "evaluate_testD = model.evaluate(x_test,y_test)\n",
    "evaluate_trainD = model.evaluate(x_train,y_train)\n",
    "\n",
    "print(\"Loss on Test Data : {}\".format(evaluate_testD[0]))\n",
    "print(\"Accuracy on Test Data : {}\".format(evaluate_testD[1]))\n",
    "print(\"==================\")\n",
    "print(\"Loss on Train Data : {}\".format(evaluate_trainD[0]))\n",
    "print(\"Accuracy on Train Data : {}\".format(evaluate_trainD[1]))"
   ]
  },
  {
   "cell_type": "code",
   "execution_count": 20,
   "metadata": {},
   "outputs": [],
   "source": [
    "# save model and architecture to single file\n",
    "model.save(\"model.h5\")"
   ]
  }
 ],
 "metadata": {
  "kernelspec": {
   "display_name": "Python 3",
   "language": "python",
   "name": "python3"
  },
  "language_info": {
   "codemirror_mode": {
    "name": "ipython",
    "version": 3
   },
   "file_extension": ".py",
   "mimetype": "text/x-python",
   "name": "python",
   "nbconvert_exporter": "python",
   "pygments_lexer": "ipython3",
   "version": "3.8.5"
  }
 },
 "nbformat": 4,
 "nbformat_minor": 4
}
